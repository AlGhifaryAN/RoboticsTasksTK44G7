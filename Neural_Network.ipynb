{
  "nbformat": 4,
  "nbformat_minor": 0,
  "metadata": {
    "colab": {
      "provenance": [],
      "authorship_tag": "ABX9TyNsp2O9HmZnqp/jBtQLAuNI",
      "include_colab_link": true
    },
    "kernelspec": {
      "name": "python3",
      "display_name": "Python 3"
    },
    "language_info": {
      "name": "python"
    }
  },
  "cells": [
    {
      "cell_type": "markdown",
      "metadata": {
        "id": "view-in-github",
        "colab_type": "text"
      },
      "source": [
        "<a href=\"https://colab.research.google.com/github/AlGhifaryAN/RoboticsTasksTK44G7/blob/main/Neural_Network.ipynb\" target=\"_parent\"><img src=\"https://colab.research.google.com/assets/colab-badge.svg\" alt=\"Open In Colab\"/></a>"
      ]
    },
    {
      "cell_type": "code",
      "source": [
        "#Nama  : Al Ghifary Akmal Nasheeri\n",
        "#NIM   : 1103201242\n",
        "#Kelas : TK-44-G4"
      ],
      "metadata": {
        "id": "eoqvEEgVxVuu"
      },
      "execution_count": null,
      "outputs": []
    },
    {
      "cell_type": "code",
      "execution_count": null,
      "metadata": {
        "id": "zC05P3KsxQB-"
      },
      "outputs": [],
      "source": [
        "import tensorflow as tf\n",
        "import numpy as np #salah satu tipe data yang dapat diterima API Keras adalah numpy\n",
        "from tensorflow import keras"
      ]
    },
    {
      "cell_type": "code",
      "source": [
        "xs = np.array([1.0,  2.0, 3.0, 4.0, 5.0, 6.0], dtype=float) #atribut\n",
        "ys = np.array([4.0, 6.0, 8.0, 10.0, 12.0, 14.0], dtype=float) #label 2X+2"
      ],
      "metadata": {
        "id": "XnqpYMdExYMD"
      },
      "execution_count": null,
      "outputs": []
    },
    {
      "cell_type": "code",
      "source": [
        "#Sequential model jaringan syaraf tiruan yang sederhana\n",
        "model = tf.keras.Sequential([keras.layers.Dense(units=1, input_shape=[1])])"
      ],
      "metadata": {
        "id": "Nw1h-99-xZxG"
      },
      "execution_count": null,
      "outputs": []
    },
    {
      "cell_type": "code",
      "source": [
        "#supaya model dapat belajar maka gunakan fungsi compile, optimizer, loss\n",
        "model.compile(optimizer='sgd', loss='mean_squared_error')"
      ],
      "metadata": {
        "id": "IAJ9agnLzWXR"
      },
      "execution_count": null,
      "outputs": []
    },
    {
      "cell_type": "code",
      "source": [
        "#mempelajari hubungan atribut dan label\n",
        "model.fit(xs, ys, epochs=150)"
      ],
      "metadata": {
        "colab": {
          "base_uri": "https://localhost:8080/"
        },
        "id": "CL1vnyNnzC05",
        "outputId": "092d79fe-cc78-4902-c2c5-c27d92f6d59b"
      },
      "execution_count": null,
      "outputs": [
        {
          "output_type": "stream",
          "name": "stdout",
          "text": [
            "Epoch 1/150\n",
            "1/1 [==============================] - 1s 1s/step - loss: 199.5991\n",
            "Epoch 2/150\n",
            "1/1 [==============================] - 0s 32ms/step - loss: 92.5265\n",
            "Epoch 3/150\n",
            "1/1 [==============================] - 0s 18ms/step - loss: 42.9690\n",
            "Epoch 4/150\n",
            "1/1 [==============================] - 0s 20ms/step - loss: 20.0313\n",
            "Epoch 5/150\n",
            "1/1 [==============================] - 0s 16ms/step - loss: 9.4139\n",
            "Epoch 6/150\n",
            "1/1 [==============================] - 0s 11ms/step - loss: 4.4989\n",
            "Epoch 7/150\n",
            "1/1 [==============================] - 0s 13ms/step - loss: 2.2230\n",
            "Epoch 8/150\n",
            "1/1 [==============================] - 0s 10ms/step - loss: 1.1687\n",
            "Epoch 9/150\n",
            "1/1 [==============================] - 0s 13ms/step - loss: 0.6796\n",
            "Epoch 10/150\n",
            "1/1 [==============================] - 0s 14ms/step - loss: 0.4523\n",
            "Epoch 11/150\n",
            "1/1 [==============================] - 0s 10ms/step - loss: 0.3461\n",
            "Epoch 12/150\n",
            "1/1 [==============================] - 0s 11ms/step - loss: 0.2959\n",
            "Epoch 13/150\n",
            "1/1 [==============================] - 0s 12ms/step - loss: 0.2717\n",
            "Epoch 14/150\n",
            "1/1 [==============================] - 0s 9ms/step - loss: 0.2595\n",
            "Epoch 15/150\n",
            "1/1 [==============================] - 0s 14ms/step - loss: 0.2529\n",
            "Epoch 16/150\n",
            "1/1 [==============================] - 0s 9ms/step - loss: 0.2489\n",
            "Epoch 17/150\n",
            "1/1 [==============================] - 0s 15ms/step - loss: 0.2461\n",
            "Epoch 18/150\n",
            "1/1 [==============================] - 0s 10ms/step - loss: 0.2438\n",
            "Epoch 19/150\n",
            "1/1 [==============================] - 0s 12ms/step - loss: 0.2418\n",
            "Epoch 20/150\n",
            "1/1 [==============================] - 0s 9ms/step - loss: 0.2399\n",
            "Epoch 21/150\n",
            "1/1 [==============================] - 0s 14ms/step - loss: 0.2382\n",
            "Epoch 22/150\n",
            "1/1 [==============================] - 0s 10ms/step - loss: 0.2364\n",
            "Epoch 23/150\n",
            "1/1 [==============================] - 0s 12ms/step - loss: 0.2347\n",
            "Epoch 24/150\n",
            "1/1 [==============================] - 0s 11ms/step - loss: 0.2330\n",
            "Epoch 25/150\n",
            "1/1 [==============================] - 0s 11ms/step - loss: 0.2313\n",
            "Epoch 26/150\n",
            "1/1 [==============================] - 0s 10ms/step - loss: 0.2296\n",
            "Epoch 27/150\n",
            "1/1 [==============================] - 0s 10ms/step - loss: 0.2279\n",
            "Epoch 28/150\n",
            "1/1 [==============================] - 0s 11ms/step - loss: 0.2262\n",
            "Epoch 29/150\n",
            "1/1 [==============================] - 0s 9ms/step - loss: 0.2246\n",
            "Epoch 30/150\n",
            "1/1 [==============================] - 0s 9ms/step - loss: 0.2229\n",
            "Epoch 31/150\n",
            "1/1 [==============================] - 0s 10ms/step - loss: 0.2213\n",
            "Epoch 32/150\n",
            "1/1 [==============================] - 0s 9ms/step - loss: 0.2197\n",
            "Epoch 33/150\n",
            "1/1 [==============================] - 0s 10ms/step - loss: 0.2181\n",
            "Epoch 34/150\n",
            "1/1 [==============================] - 0s 9ms/step - loss: 0.2165\n",
            "Epoch 35/150\n",
            "1/1 [==============================] - 0s 9ms/step - loss: 0.2149\n",
            "Epoch 36/150\n",
            "1/1 [==============================] - 0s 10ms/step - loss: 0.2134\n",
            "Epoch 37/150\n",
            "1/1 [==============================] - 0s 13ms/step - loss: 0.2118\n",
            "Epoch 38/150\n",
            "1/1 [==============================] - 0s 12ms/step - loss: 0.2103\n",
            "Epoch 39/150\n",
            "1/1 [==============================] - 0s 11ms/step - loss: 0.2087\n",
            "Epoch 40/150\n",
            "1/1 [==============================] - 0s 11ms/step - loss: 0.2072\n",
            "Epoch 41/150\n",
            "1/1 [==============================] - 0s 10ms/step - loss: 0.2057\n",
            "Epoch 42/150\n",
            "1/1 [==============================] - 0s 10ms/step - loss: 0.2042\n",
            "Epoch 43/150\n",
            "1/1 [==============================] - 0s 13ms/step - loss: 0.2027\n",
            "Epoch 44/150\n",
            "1/1 [==============================] - 0s 10ms/step - loss: 0.2013\n",
            "Epoch 45/150\n",
            "1/1 [==============================] - 0s 11ms/step - loss: 0.1998\n",
            "Epoch 46/150\n",
            "1/1 [==============================] - 0s 9ms/step - loss: 0.1983\n",
            "Epoch 47/150\n",
            "1/1 [==============================] - 0s 9ms/step - loss: 0.1969\n",
            "Epoch 48/150\n",
            "1/1 [==============================] - 0s 9ms/step - loss: 0.1955\n",
            "Epoch 49/150\n",
            "1/1 [==============================] - 0s 9ms/step - loss: 0.1940\n",
            "Epoch 50/150\n",
            "1/1 [==============================] - 0s 10ms/step - loss: 0.1926\n",
            "Epoch 51/150\n",
            "1/1 [==============================] - 0s 9ms/step - loss: 0.1912\n",
            "Epoch 52/150\n",
            "1/1 [==============================] - 0s 9ms/step - loss: 0.1898\n",
            "Epoch 53/150\n",
            "1/1 [==============================] - 0s 9ms/step - loss: 0.1884\n",
            "Epoch 54/150\n",
            "1/1 [==============================] - 0s 9ms/step - loss: 0.1871\n",
            "Epoch 55/150\n",
            "1/1 [==============================] - 0s 9ms/step - loss: 0.1857\n",
            "Epoch 56/150\n",
            "1/1 [==============================] - 0s 8ms/step - loss: 0.1843\n",
            "Epoch 57/150\n",
            "1/1 [==============================] - 0s 9ms/step - loss: 0.1830\n",
            "Epoch 58/150\n",
            "1/1 [==============================] - 0s 9ms/step - loss: 0.1817\n",
            "Epoch 59/150\n",
            "1/1 [==============================] - 0s 10ms/step - loss: 0.1803\n",
            "Epoch 60/150\n",
            "1/1 [==============================] - 0s 15ms/step - loss: 0.1790\n",
            "Epoch 61/150\n",
            "1/1 [==============================] - 0s 15ms/step - loss: 0.1777\n",
            "Epoch 62/150\n",
            "1/1 [==============================] - 0s 12ms/step - loss: 0.1764\n",
            "Epoch 63/150\n",
            "1/1 [==============================] - 0s 10ms/step - loss: 0.1751\n",
            "Epoch 64/150\n",
            "1/1 [==============================] - 0s 10ms/step - loss: 0.1739\n",
            "Epoch 65/150\n",
            "1/1 [==============================] - 0s 13ms/step - loss: 0.1726\n",
            "Epoch 66/150\n",
            "1/1 [==============================] - 0s 12ms/step - loss: 0.1713\n",
            "Epoch 67/150\n",
            "1/1 [==============================] - 0s 11ms/step - loss: 0.1701\n",
            "Epoch 68/150\n",
            "1/1 [==============================] - 0s 11ms/step - loss: 0.1689\n",
            "Epoch 69/150\n",
            "1/1 [==============================] - 0s 10ms/step - loss: 0.1676\n",
            "Epoch 70/150\n",
            "1/1 [==============================] - 0s 10ms/step - loss: 0.1664\n",
            "Epoch 71/150\n",
            "1/1 [==============================] - 0s 12ms/step - loss: 0.1652\n",
            "Epoch 72/150\n",
            "1/1 [==============================] - 0s 10ms/step - loss: 0.1640\n",
            "Epoch 73/150\n",
            "1/1 [==============================] - 0s 8ms/step - loss: 0.1628\n",
            "Epoch 74/150\n",
            "1/1 [==============================] - 0s 12ms/step - loss: 0.1616\n",
            "Epoch 75/150\n",
            "1/1 [==============================] - 0s 10ms/step - loss: 0.1604\n",
            "Epoch 76/150\n",
            "1/1 [==============================] - 0s 8ms/step - loss: 0.1593\n",
            "Epoch 77/150\n",
            "1/1 [==============================] - 0s 9ms/step - loss: 0.1581\n",
            "Epoch 78/150\n",
            "1/1 [==============================] - 0s 9ms/step - loss: 0.1570\n",
            "Epoch 79/150\n",
            "1/1 [==============================] - 0s 15ms/step - loss: 0.1558\n",
            "Epoch 80/150\n",
            "1/1 [==============================] - 0s 11ms/step - loss: 0.1547\n",
            "Epoch 81/150\n",
            "1/1 [==============================] - 0s 9ms/step - loss: 0.1535\n",
            "Epoch 82/150\n",
            "1/1 [==============================] - 0s 13ms/step - loss: 0.1524\n",
            "Epoch 83/150\n",
            "1/1 [==============================] - 0s 12ms/step - loss: 0.1513\n",
            "Epoch 84/150\n",
            "1/1 [==============================] - 0s 11ms/step - loss: 0.1502\n",
            "Epoch 85/150\n",
            "1/1 [==============================] - 0s 13ms/step - loss: 0.1491\n",
            "Epoch 86/150\n",
            "1/1 [==============================] - 0s 12ms/step - loss: 0.1480\n",
            "Epoch 87/150\n",
            "1/1 [==============================] - 0s 11ms/step - loss: 0.1470\n",
            "Epoch 88/150\n",
            "1/1 [==============================] - 0s 12ms/step - loss: 0.1459\n",
            "Epoch 89/150\n",
            "1/1 [==============================] - 0s 11ms/step - loss: 0.1448\n",
            "Epoch 90/150\n",
            "1/1 [==============================] - 0s 11ms/step - loss: 0.1438\n",
            "Epoch 91/150\n",
            "1/1 [==============================] - 0s 11ms/step - loss: 0.1427\n",
            "Epoch 92/150\n",
            "1/1 [==============================] - 0s 12ms/step - loss: 0.1417\n",
            "Epoch 93/150\n",
            "1/1 [==============================] - 0s 12ms/step - loss: 0.1406\n",
            "Epoch 94/150\n",
            "1/1 [==============================] - 0s 15ms/step - loss: 0.1396\n",
            "Epoch 95/150\n",
            "1/1 [==============================] - 0s 12ms/step - loss: 0.1386\n",
            "Epoch 96/150\n",
            "1/1 [==============================] - 0s 12ms/step - loss: 0.1376\n",
            "Epoch 97/150\n",
            "1/1 [==============================] - 0s 13ms/step - loss: 0.1366\n",
            "Epoch 98/150\n",
            "1/1 [==============================] - 0s 12ms/step - loss: 0.1356\n",
            "Epoch 99/150\n",
            "1/1 [==============================] - 0s 11ms/step - loss: 0.1346\n",
            "Epoch 100/150\n",
            "1/1 [==============================] - 0s 12ms/step - loss: 0.1336\n",
            "Epoch 101/150\n",
            "1/1 [==============================] - 0s 10ms/step - loss: 0.1327\n",
            "Epoch 102/150\n",
            "1/1 [==============================] - 0s 13ms/step - loss: 0.1317\n",
            "Epoch 103/150\n",
            "1/1 [==============================] - 0s 11ms/step - loss: 0.1307\n",
            "Epoch 104/150\n",
            "1/1 [==============================] - 0s 9ms/step - loss: 0.1298\n",
            "Epoch 105/150\n",
            "1/1 [==============================] - 0s 13ms/step - loss: 0.1288\n",
            "Epoch 106/150\n",
            "1/1 [==============================] - 0s 12ms/step - loss: 0.1279\n",
            "Epoch 107/150\n",
            "1/1 [==============================] - 0s 13ms/step - loss: 0.1270\n",
            "Epoch 108/150\n",
            "1/1 [==============================] - 0s 9ms/step - loss: 0.1260\n",
            "Epoch 109/150\n",
            "1/1 [==============================] - 0s 9ms/step - loss: 0.1251\n",
            "Epoch 110/150\n",
            "1/1 [==============================] - 0s 10ms/step - loss: 0.1242\n",
            "Epoch 111/150\n",
            "1/1 [==============================] - 0s 11ms/step - loss: 0.1233\n",
            "Epoch 112/150\n",
            "1/1 [==============================] - 0s 11ms/step - loss: 0.1224\n",
            "Epoch 113/150\n",
            "1/1 [==============================] - 0s 11ms/step - loss: 0.1215\n",
            "Epoch 114/150\n",
            "1/1 [==============================] - 0s 11ms/step - loss: 0.1206\n",
            "Epoch 115/150\n",
            "1/1 [==============================] - 0s 9ms/step - loss: 0.1197\n",
            "Epoch 116/150\n",
            "1/1 [==============================] - 0s 10ms/step - loss: 0.1189\n",
            "Epoch 117/150\n",
            "1/1 [==============================] - 0s 11ms/step - loss: 0.1180\n",
            "Epoch 118/150\n",
            "1/1 [==============================] - 0s 16ms/step - loss: 0.1172\n",
            "Epoch 119/150\n",
            "1/1 [==============================] - 0s 9ms/step - loss: 0.1163\n",
            "Epoch 120/150\n",
            "1/1 [==============================] - 0s 11ms/step - loss: 0.1155\n",
            "Epoch 121/150\n",
            "1/1 [==============================] - 0s 11ms/step - loss: 0.1146\n",
            "Epoch 122/150\n",
            "1/1 [==============================] - 0s 14ms/step - loss: 0.1138\n",
            "Epoch 123/150\n",
            "1/1 [==============================] - 0s 11ms/step - loss: 0.1129\n",
            "Epoch 124/150\n",
            "1/1 [==============================] - 0s 10ms/step - loss: 0.1121\n",
            "Epoch 125/150\n",
            "1/1 [==============================] - 0s 13ms/step - loss: 0.1113\n",
            "Epoch 126/150\n",
            "1/1 [==============================] - 0s 9ms/step - loss: 0.1105\n",
            "Epoch 127/150\n",
            "1/1 [==============================] - 0s 15ms/step - loss: 0.1097\n",
            "Epoch 128/150\n",
            "1/1 [==============================] - 0s 10ms/step - loss: 0.1089\n",
            "Epoch 129/150\n",
            "1/1 [==============================] - 0s 12ms/step - loss: 0.1081\n",
            "Epoch 130/150\n",
            "1/1 [==============================] - 0s 12ms/step - loss: 0.1073\n",
            "Epoch 131/150\n",
            "1/1 [==============================] - 0s 11ms/step - loss: 0.1065\n",
            "Epoch 132/150\n",
            "1/1 [==============================] - 0s 12ms/step - loss: 0.1058\n",
            "Epoch 133/150\n",
            "1/1 [==============================] - 0s 11ms/step - loss: 0.1050\n",
            "Epoch 134/150\n",
            "1/1 [==============================] - 0s 13ms/step - loss: 0.1042\n",
            "Epoch 135/150\n",
            "1/1 [==============================] - 0s 12ms/step - loss: 0.1035\n",
            "Epoch 136/150\n",
            "1/1 [==============================] - 0s 13ms/step - loss: 0.1027\n",
            "Epoch 137/150\n",
            "1/1 [==============================] - 0s 12ms/step - loss: 0.1020\n",
            "Epoch 138/150\n",
            "1/1 [==============================] - 0s 14ms/step - loss: 0.1012\n",
            "Epoch 139/150\n",
            "1/1 [==============================] - 0s 12ms/step - loss: 0.1005\n",
            "Epoch 140/150\n",
            "1/1 [==============================] - 0s 14ms/step - loss: 0.0997\n",
            "Epoch 141/150\n",
            "1/1 [==============================] - 0s 10ms/step - loss: 0.0990\n",
            "Epoch 142/150\n",
            "1/1 [==============================] - 0s 11ms/step - loss: 0.0983\n",
            "Epoch 143/150\n",
            "1/1 [==============================] - 0s 9ms/step - loss: 0.0976\n",
            "Epoch 144/150\n",
            "1/1 [==============================] - 0s 10ms/step - loss: 0.0969\n",
            "Epoch 145/150\n",
            "1/1 [==============================] - 0s 12ms/step - loss: 0.0962\n",
            "Epoch 146/150\n",
            "1/1 [==============================] - 0s 11ms/step - loss: 0.0955\n",
            "Epoch 147/150\n",
            "1/1 [==============================] - 0s 10ms/step - loss: 0.0948\n",
            "Epoch 148/150\n",
            "1/1 [==============================] - 0s 9ms/step - loss: 0.0941\n",
            "Epoch 149/150\n",
            "1/1 [==============================] - 0s 11ms/step - loss: 0.0934\n",
            "Epoch 150/150\n",
            "1/1 [==============================] - 0s 13ms/step - loss: 0.0927\n"
          ]
        },
        {
          "output_type": "execute_result",
          "data": {
            "text/plain": [
              "<keras.src.callbacks.History at 0x7c3cbf3bde40>"
            ]
          },
          "metadata": {},
          "execution_count": 11
        }
      ]
    },
    {
      "cell_type": "code",
      "source": [
        "#memprediksi data baru\n",
        "print(model.predict([10.0]))"
      ],
      "metadata": {
        "colab": {
          "base_uri": "https://localhost:8080/"
        },
        "id": "YOdtT28JzEW8",
        "outputId": "5f323841-2991-436d-aff5-3c98c07574ea"
      },
      "execution_count": null,
      "outputs": [
        {
          "output_type": "stream",
          "name": "stdout",
          "text": [
            "1/1 [==============================] - 0s 181ms/step\n",
            "[[22.923805]]\n"
          ]
        }
      ]
    },
    {
      "cell_type": "code",
      "source": [
        "#using 3 layers jst\n",
        "model = tf.keras.Sequential([\n",
        "                             keras.layers.Dense(units=1, input_shape=[1]),\n",
        "                             keras.layers.Dense(units=8),\n",
        "                             keras.layers.Dense(units=1)])"
      ],
      "metadata": {
        "id": "HAbxiYVLz27L"
      },
      "execution_count": null,
      "outputs": []
    },
    {
      "cell_type": "code",
      "source": [
        "#supaya model dapat belajar maka gunakan fungsi compile, optimizer, loss\n",
        "model_3_layers.compile(optimizer='sgd', loss='mean_squared_error')"
      ],
      "metadata": {
        "colab": {
          "base_uri": "https://localhost:8080/",
          "height": 197
        },
        "id": "hb9s2Ohoz8wL",
        "outputId": "c9899d65-beca-4b47-9100-35fb66e34162"
      },
      "execution_count": null,
      "outputs": [
        {
          "output_type": "error",
          "ename": "NameError",
          "evalue": "ignored",
          "traceback": [
            "\u001b[0;31m---------------------------------------------------------------------------\u001b[0m",
            "\u001b[0;31mNameError\u001b[0m                                 Traceback (most recent call last)",
            "\u001b[0;32m<ipython-input-14-5d21d9aa3c3f>\u001b[0m in \u001b[0;36m<cell line: 2>\u001b[0;34m()\u001b[0m\n\u001b[1;32m      1\u001b[0m \u001b[0;31m#supaya model dapat belajar maka gunakan fungsi compile, optimizer, loss\u001b[0m\u001b[0;34m\u001b[0m\u001b[0;34m\u001b[0m\u001b[0m\n\u001b[0;32m----> 2\u001b[0;31m \u001b[0mmodel_3_layers\u001b[0m\u001b[0;34m.\u001b[0m\u001b[0mcompile\u001b[0m\u001b[0;34m(\u001b[0m\u001b[0moptimizer\u001b[0m\u001b[0;34m=\u001b[0m\u001b[0;34m'sgd'\u001b[0m\u001b[0;34m,\u001b[0m \u001b[0mloss\u001b[0m\u001b[0;34m=\u001b[0m\u001b[0;34m'mean_squared_error'\u001b[0m\u001b[0;34m)\u001b[0m\u001b[0;34m\u001b[0m\u001b[0;34m\u001b[0m\u001b[0m\n\u001b[0m",
            "\u001b[0;31mNameError\u001b[0m: name 'model_3_layers' is not defined"
          ]
        }
      ]
    },
    {
      "cell_type": "code",
      "source": [
        "#memprediksi data baru\n",
        "print(model_3_layers.predict([10.0]))"
      ],
      "metadata": {
        "id": "r-e8ApOv0rp2"
      },
      "execution_count": null,
      "outputs": []
    },
    {
      "cell_type": "code",
      "source": [
        "#mempelajari hubungan atribut dan label\n",
        "model_3_layers.fit(xs, ys, epochs=300)"
      ],
      "metadata": {
        "id": "fT0ycY9D0y1y"
      },
      "execution_count": null,
      "outputs": []
    }
  ]
}